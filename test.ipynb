{
 "cells": [
  {
   "cell_type": "markdown",
   "id": "cfd2fec5-84f0-429d-903a-08933bf19cfa",
   "metadata": {},
   "source": [
    "# 功能测试"
   ]
  },
  {
   "cell_type": "code",
   "execution_count": null,
   "id": "548b1811",
   "metadata": {},
   "outputs": [],
   "source": [
    "from knowledge import KnowledgeBase\n",
    "from chatbot import SalesChatbot\n",
    "\n",
    "kb=KnowledgeBase(vector_store_path='./.faiss',doc_store_path='./.docs')\n",
    "bot=SalesChatbot(kb)"
   ]
  },
  {
   "cell_type": "markdown",
   "id": "93677be5",
   "metadata": {},
   "source": [
    "## 清空知识库"
   ]
  },
  {
   "cell_type": "code",
   "execution_count": null,
   "id": "245038cf",
   "metadata": {},
   "outputs": [],
   "source": [
    "kb._clear_store()"
   ]
  },
  {
   "cell_type": "markdown",
   "id": "f7736066",
   "metadata": {},
   "source": [
    "## 添加文档"
   ]
  },
  {
   "cell_type": "code",
   "execution_count": null,
   "id": "2e754be7",
   "metadata": {},
   "outputs": [],
   "source": [
    "dbsize=kb.append_llm_docs('房地产',10)\n",
    "print(f'db docs: {dbsize}')\n",
    "db=kb.load_store()\n",
    "print(f'db docs: {db and  db.index.ntotal}')\n",
    "\n",
    "dbsize=kb.append_docs(['[客户问题] 有别墅吗？\\n[销售回答] 我们的小区内有别墅和小高层'],'房地产')\n",
    "print(f'db docs: {dbsize}')\n",
    "db=kb.load_store()\n",
    "print(f'db docs: {db and  db.index.ntotal}')\n",
    "\n",
    "db.docstore._dict"
   ]
  },
  {
   "cell_type": "markdown",
   "id": "b7fb1df8",
   "metadata": {},
   "source": [
    "## 聊天测试"
   ]
  },
  {
   "cell_type": "code",
   "execution_count": 3,
   "id": "32a1b92e",
   "metadata": {},
   "outputs": [],
   "source": [
    "from chatbot import SalesChatbot\n",
    "\n",
    "bot=SalesChatbot(model_name='gpt-4o')"
   ]
  },
  {
   "cell_type": "code",
   "execution_count": 5,
   "id": "5cd6f8c1",
   "metadata": {},
   "outputs": [
    {
     "name": "stderr",
     "output_type": "stream",
     "text": [
      "d:\\Dev\\anaconda3\\envs\\sales\\Lib\\site-packages\\langchain_core\\vectorstores\\base.py:796: UserWarning: No relevant docs were retrieved using the relevance score threshold 0.8\n",
      "  warnings.warn(\n"
     ]
    },
    {
     "name": "stdout",
     "output_type": "stream",
     "text": [
      "\u001b[32m2024-07-29 14:52:43.391\u001b[0m | \u001b[34m\u001b[1mDEBUG   \u001b[0m | \u001b[36mchatbot.bot\u001b[0m:\u001b[36minvoke\u001b[0m:\u001b[36m46\u001b[0m - \u001b[34m\u001b[1m{'input': '一个班有多少人啊？', 'context': [], 'answer': '抱歉，我们没有具体信息可以回答这个问题。班级的人数通常因学校和具体情况而异。如果您有其它想了解的内容或需要帮助，请告诉我！'}\u001b[0m\n",
      "[answer]抱歉，我们没有具体信息可以回答这个问题。班级的人数通常因学校和具体情况而异。如果您有其它想了解的内容或需要帮助，请告诉我！\n",
      "[context][]\n"
     ]
    },
    {
     "data": {
      "text/plain": [
       "'抱歉，我们没有具体信息可以回答这个问题。班级的人数通常因学校和具体情况而异。如果您有其它想了解的内容或需要帮助，请告诉我！'"
      ]
     },
     "execution_count": 5,
     "metadata": {},
     "output_type": "execute_result"
    }
   ],
   "source": [
    "bot.invoke('一个班有多少人啊？')"
   ]
  },
  {
   "cell_type": "code",
   "execution_count": null,
   "id": "7d02886f",
   "metadata": {},
   "outputs": [],
   "source": [
    "bot.invoke('课程费用是多少？')"
   ]
  },
  {
   "cell_type": "markdown",
   "id": "45439a64",
   "metadata": {},
   "source": [
    "## 爬取数据"
   ]
  },
  {
   "cell_type": "code",
   "execution_count": null,
   "id": "1259cc3a",
   "metadata": {},
   "outputs": [],
   "source": [
    "from knowledge import Spider\n",
    "\n",
    "spider=Spider(model_name='gpt-4o-mini')\n",
    "# spider.agent.chain.verbose = True\n",
    "# file_path,docs_num=spider.fetch(topic='教育',num=100)\n",
    "# print(f'file_path={file_path},docs_num={docs_num}')\n",
    "\n",
    "db=spider.kbase.load()\n",
    "print(f'db docs: {db and  db.index.ntotal}')\n",
    "db.docstore._dict\n"
   ]
  },
  {
   "cell_type": "code",
   "execution_count": null,
   "id": "b587bc83",
   "metadata": {},
   "outputs": [],
   "source": []
  },
  {
   "cell_type": "code",
   "execution_count": null,
   "id": "c5eea666",
   "metadata": {},
   "outputs": [],
   "source": []
  }
 ],
 "metadata": {
  "kernelspec": {
   "display_name": "Python 3 (ipykernel)",
   "language": "python",
   "name": "python3"
  },
  "language_info": {
   "codemirror_mode": {
    "name": "ipython",
    "version": 3
   },
   "file_extension": ".py",
   "mimetype": "text/x-python",
   "name": "python",
   "nbconvert_exporter": "python",
   "pygments_lexer": "ipython3",
   "version": "3.11.9"
  }
 },
 "nbformat": 4,
 "nbformat_minor": 5
}
